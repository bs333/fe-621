{
 "cells": [
  {
   "cell_type": "markdown",
   "metadata": {},
   "source": [
    "### FE621 - Homework #2"
   ]
  },
  {
   "cell_type": "markdown",
   "metadata": {},
   "source": [
    "**Author**: Sid Bhatia\n",
    "\n",
    "**Date**: March 4th, 2023\n",
    "\n",
    "**Pledge**: I pledge my honor that I have abided by the Stevens Honor System.\n",
    "\n",
    "**Professor**: Sveinn Olafsson\n",
    "\n",
    "**TA**: Dong Woo Kim"
   ]
  },
  {
   "cell_type": "markdown",
   "metadata": {},
   "source": [
    "#### Problem #1"
   ]
  },
  {
   "cell_type": "markdown",
   "metadata": {},
   "source": [
    "a. Provide the formulas for the parameters $p, u, d$ of a **Cox-Ross-Rubinstein (CRR) binomial tree** that approximates the dynamics of a stock following *geometric Brownian motion* (*GBM*) with drift $r$ and volatility $\\sigma$."
   ]
  },
  {
   "cell_type": "markdown",
   "metadata": {},
   "source": [
    "The Cox-Ross-Rubinstein (CRR) binomial tree model is a popular method for pricing European and American options. This model approximates the dynamics of a stock following a geometric Brownian motion (GBM) by discretizing the stock price movements over time into an up or down movement at each step of the tree. The parameters $p, u, d$ are crucial for constructing the binomial tree. They represent the probability of an up move, the up move factor, and the down move factor, respectively. The formulas for these parameters are derived from the characteristics of the geometric Brownian motion, which is described by a drift rate $r$ (risk-free interest rate) and a volatility $\\sigma$. The time to maturity of the option is divided into $n$ equal intervals of length $\\Delta t$.\n",
    "\n",
    "The formulas for the parameters are as follows:\n",
    "\n",
    "- **Up move factor ($u$):**\n",
    "  $$\n",
    "  u = e^{\\sigma \\sqrt{\\Delta t}}\n",
    "  $$\n",
    "  This factor represents the multiplicative increase in the stock price if it moves up.\n",
    "\n",
    "- **Down move factor ($d$):**\n",
    "  $$\n",
    "  d = e^{-\\sigma \\sqrt{\\Delta t}}\n",
    "  $$\n",
    "  This factor represents the multiplicative decrease in the stock price if it moves down. It's worth noting that $d = \\frac{1}{u}$, ensuring that the tree is recombining.\n",
    "\n",
    "- **Risk-neutral probability ($p$):**\n",
    "  $$\n",
    "  p = \\frac{e^{r \\Delta t} - d}{u - d}\n",
    "  $$\n",
    "  This probability is used to calculate the expected value of the option at each node in a risk-neutral world, where all investors are indifferent to risk. It reflects the probability of the stock price moving up in the next time step.\n",
    "\n",
    "These parameters ensure that the binomial model converges to the continuous-time geometric Brownian motion model as the number of steps $n$ increases and $\\Delta t$ becomes very small."
   ]
  },
  {
   "cell_type": "markdown",
   "metadata": {},
   "source": [
    "b. Write code that takes $S_0, \\sigma, r, K, T$ and $N$ as inputs and uses an $N$-step CCR binomial tree to compute the prices of **call** and **put options** in the **Black-Scholes model**."
   ]
  },
  {
   "cell_type": "markdown",
   "metadata": {},
   "source": [
    "c. Analyze the **convergence** of binomial tree option prices to Black-Scholes option prices as the number of time steps gets larger. Specifically, for both call and put options, plot the Black-Scholes price $P^{BS}$ and the $N$-step binomial tree price $P_N^{\\text{Tree}}$ as a function of $N$. Also, plot the absolute relative pricing error $\\frac{|P_N^{\\text{Tree}} - P^{BS}|}{P^{BS}}$ as a function of $N$.\n",
    "\n",
    "Comment on your findings. Does the error decrease smoothly to zero as $N$ grows? How large does $N$ have to be (i.e., how small does the step size $\\Delta t$ for satisfactory convergence)?\n",
    "\n",
    "Use parameters $S_0 = 100, K = 90, T = 0.5, \\sigma = 0.2,$ and $r = 0.04$."
   ]
  },
  {
   "cell_type": "markdown",
   "metadata": {},
   "source": [
    "#### Problem #2"
   ]
  },
  {
   "cell_type": "markdown",
   "metadata": {},
   "source": [
    "a. **Prove** that the log-return of the stock price in the Black-Scholes model satisfies"
   ]
  }
 ],
 "metadata": {
  "language_info": {
   "name": "python"
  }
 },
 "nbformat": 4,
 "nbformat_minor": 2
}
