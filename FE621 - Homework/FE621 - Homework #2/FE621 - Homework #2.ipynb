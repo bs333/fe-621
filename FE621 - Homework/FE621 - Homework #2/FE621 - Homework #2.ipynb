{
 "cells": [
  {
   "cell_type": "markdown",
   "metadata": {},
   "source": [
    "### FE621 - Homework #2"
   ]
  },
  {
   "cell_type": "markdown",
   "metadata": {},
   "source": [
    "**Author**: Sid Bhatia\n",
    "\n",
    "**Date**: March 4th, 2023\n",
    "\n",
    "**Pledge**: I pledge my honor that I have abided by the Stevens Honor System.\n",
    "\n",
    "**Professor**: Sveinn Olafsson\n",
    "\n",
    "**TA**: Dong Woo Kim"
   ]
  },
  {
   "cell_type": "markdown",
   "metadata": {},
   "source": [
    "#### Problem #1"
   ]
  },
  {
   "cell_type": "markdown",
   "metadata": {},
   "source": [
    "a. Provide the formulas for the parameters $p, u, d$ of a **Cox-Ross-Rubinstein (CRR) binomial tree** that approximates the dynamics of a stock following *geometric Brownian motion* (*GBM*) with drift $r$ and volatility $\\sigma$."
   ]
  },
  {
   "cell_type": "markdown",
   "metadata": {},
   "source": [
    "The Cox-Ross-Rubinstein (CRR) binomial tree model is a popular method for pricing European and American options. This model approximates the dynamics of a stock following a geometric Brownian motion (GBM) by discretizing the stock price movements over time into an up or down movement at each step of the tree. The parameters $p, u, d$ are crucial for constructing the binomial tree. They represent the probability of an up move, the up move factor, and the down move factor, respectively. The formulas for these parameters are derived from the characteristics of the geometric Brownian motion, which is described by a drift rate $r$ (risk-free interest rate) and a volatility $\\sigma$. The time to maturity of the option is divided into $n$ equal intervals of length $\\Delta t$.\n",
    "\n",
    "The formulas for the parameters are as follows:\n",
    "\n",
    "- **Up move factor ($u$):**\n",
    "  $$\n",
    "  u = e^{\\sigma \\sqrt{\\Delta t}}\n",
    "  $$\n",
    "  This factor represents the multiplicative increase in the stock price if it moves up.\n",
    "\n",
    "- **Down move factor ($d$):**\n",
    "  $$\n",
    "  d = e^{-\\sigma \\sqrt{\\Delta t}}\n",
    "  $$\n",
    "  This factor represents the multiplicative decrease in the stock price if it moves down. It's worth noting that $d = \\frac{1}{u}$, ensuring that the tree is recombining.\n",
    "\n",
    "- **Risk-neutral probability ($p$):**\n",
    "  $$\n",
    "  p = \\frac{e^{r \\Delta t} - d}{u - d}\n",
    "  $$\n",
    "  This probability is used to calculate the expected value of the option at each node in a risk-neutral world, where all investors are indifferent to risk. It reflects the probability of the stock price moving up in the next time step.\n",
    "\n",
    "These parameters ensure that the binomial model converges to the continuous-time geometric Brownian motion model as the number of steps $n$ increases and $\\Delta t$ becomes very small."
   ]
  },
  {
   "cell_type": "markdown",
   "metadata": {},
   "source": [
    "b. Write code that takes $S_0, \\sigma, r, K, T$ and $N$ as inputs and uses an $N$-step CCR binomial tree to compute the prices of **call** and **put options** in the **Black-Scholes model**."
   ]
  },
  {
   "cell_type": "code",
   "execution_count": 2,
   "metadata": {},
   "outputs": [],
   "source": [
    "from typing import Tuple\n",
    "import numpy as np\n",
    "\n",
    "def CRR_parameters(sigma: float, r: float, T: float, N: int) -> tuple:\n",
    "    \"\"\"\n",
    "    Calculate the Cox-Ross-Rubinstein binomial model parameters.\n",
    "\n",
    "    Parameters:\n",
    "    - sigma: Volatility of the underlying asset.\n",
    "    - r: Risk-free interest rate.\n",
    "    - T: Time to maturity.\n",
    "    - N: Number of time steps.\n",
    "\n",
    "    Returns:\n",
    "    - A tuple (u, d, p) where:\n",
    "        u is the up factor,\n",
    "        d is the down factor,\n",
    "        p is the risk-neutral probability.\n",
    "    \"\"\"\n",
    "    dt = T / N  # Delta t\n",
    "    u = np.exp(sigma * np.sqrt(dt))\n",
    "    d = 1 / u\n",
    "    p = (np.exp(r * dt) - d) / (u - d)\n",
    "    return (u, d, p)\n",
    "\n",
    "def binomial_tree_option_price(S0: float, K: float, T: float, sigma: float, r: float, N: int, option_type: str) -> float:\n",
    "    \"\"\"\n",
    "    Calculate the European option price using the Cox-Ross-Rubinstein binomial tree.\n",
    "\n",
    "    Parameters:\n",
    "    - S0: Initial stock price.\n",
    "    - K: Strike price.\n",
    "    - T: Time to maturity.\n",
    "    - sigma: Volatility of the underlying asset.\n",
    "    - r: Risk-free interest rate.\n",
    "    - N: Number of time steps.\n",
    "    - option_type: Type of the option ('call' or 'put').\n",
    "\n",
    "    Returns:\n",
    "    - Price of the option.\n",
    "    \"\"\"\n",
    "    u, d, p = CRR_parameters(sigma, r, T, N)\n",
    "    dt = T / N\n",
    "    discount = np.exp(-r * dt)\n",
    "    \n",
    "    # Initialize asset prices at maturity.\n",
    "    S = np.array([S0 * (u**j) * (d**(N - j)) for j in range(N + 1)])\n",
    "    \n",
    "    # Initialize option values at maturity.\n",
    "    if option_type == 'call':\n",
    "        V = np.maximum(S - K, 0)\n",
    "    else:  # put option\n",
    "        V = np.maximum(K - S, 0)\n",
    "    \n",
    "    # Backward induction\n",
    "    for i in range(N - 1, -1, -1):\n",
    "        V = discount * (p * V[1:i+2] + (1 - p) * V[:i+1])\n",
    "    \n",
    "    return V[0]"
   ]
  },
  {
   "cell_type": "markdown",
   "metadata": {},
   "source": [
    "c. Analyze the **convergence** of binomial tree option prices to Black-Scholes option prices as the number of time steps gets larger. Specifically, for both call and put options, plot the Black-Scholes price $P^{BS}$ and the $N$-step binomial tree price $P_N^{\\text{Tree}}$ as a function of $N$. Also, plot the absolute relative pricing error $\\frac{|P_N^{\\text{Tree}} - P^{BS}|}{P^{BS}}$ as a function of $N$.\n",
    "\n",
    "Comment on your findings. Does the error decrease smoothly to zero as $N$ grows? How large does $N$ have to be (i.e., how small does the step size $\\Delta t$ for satisfactory convergence)?\n",
    "\n",
    "Use parameters $S_0 = 100, K = 90, T = 0.5, \\sigma = 0.2,$ and $r = 0.04$."
   ]
  },
  {
   "cell_type": "markdown",
   "metadata": {},
   "source": [
    "#### Problem #2"
   ]
  },
  {
   "cell_type": "markdown",
   "metadata": {},
   "source": [
    "a. **Prove** that the log-return of the stock price in the Black-Scholes model satisfies\n",
    "\n",
    "$$\\log (\\frac{S_T}{S_0}) = (r - \\frac{\\sigma^2}{2})T + \\sigma W_T,$$\n",
    "\n",
    "where $W_T \\sim \\mathcal{N}(0, T)$. Plot the PDF of the distribution of the log-return. "
   ]
  },
  {
   "cell_type": "code",
   "execution_count": null,
   "metadata": {},
   "outputs": [],
   "source": []
  },
  {
   "cell_type": "code",
   "execution_count": null,
   "metadata": {},
   "outputs": [],
   "source": []
  }
 ],
 "metadata": {
  "kernelspec": {
   "display_name": "Python 3",
   "language": "python",
   "name": "python3"
  },
  "language_info": {
   "codemirror_mode": {
    "name": "ipython",
    "version": 3
   },
   "file_extension": ".py",
   "mimetype": "text/x-python",
   "name": "python",
   "nbconvert_exporter": "python",
   "pygments_lexer": "ipython3",
   "version": "3.11.5"
  }
 },
 "nbformat": 4,
 "nbformat_minor": 2
}
