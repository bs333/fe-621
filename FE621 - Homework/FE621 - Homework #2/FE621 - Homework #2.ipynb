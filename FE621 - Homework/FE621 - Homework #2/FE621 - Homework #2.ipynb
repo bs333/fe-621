{
 "cells": [
  {
   "cell_type": "markdown",
   "metadata": {},
   "source": [
    "### FE621 - Homework #2"
   ]
  },
  {
   "cell_type": "markdown",
   "metadata": {},
   "source": [
    "**Author**: Sid Bhatia\n",
    "\n",
    "**Date**: March 4th, 2023\n",
    "\n",
    "**Pledge**: I pledge my honor that I have abided by the Stevens Honor System.\n",
    "\n",
    "**Professor**: Sveinn Olafsson\n",
    "\n",
    "**TA**: Dong Woo Kim"
   ]
  },
  {
   "cell_type": "markdown",
   "metadata": {},
   "source": [
    "#### Problem #1"
   ]
  },
  {
   "cell_type": "markdown",
   "metadata": {},
   "source": [
    "a. Provide the formulas for the parameters $p, u, d$ of a **Cox-Ross-Rubinstein (CRR) binomial tree** that approximates the dynamics of a stock following *geometric Brownian motion* (*GBM*) with drift $r$ and volatility $\\sigma$."
   ]
  },
  {
   "cell_type": "markdown",
   "metadata": {},
   "source": [
    "b. Write code that takes $S_0, \\sigma, r, K, T$ and $N$ as inputs and uses an $N$-step CCR binomial tree to compute the prices of **call** and **put options** in the **Black-Scholes model**."
   ]
  },
  {
   "cell_type": "markdown",
   "metadata": {},
   "source": [
    "c. Analyze the convergence of binomial tree option prices to Black-Scholes option prices as the number of time steps gets larger. Specifically, for both call and put options, plot the Black-Scholes price $P^{BS}$ and the $N$-step binomial tree price $P_N^{\\text{Tree}}$ as a function of $N$. Also, plot the absolute relative pricing error $\\frac{|P_N^{\\text{Tree}} - P^{BS}|}{P^{BS}}$ as a function of $N$.\n",
    "\n",
    "Comment on your findings. Does the error decrease smoothly to zero as $N$ grows? How large does $N$ have to be (i.e., how small does the step size $\\Delta t$ for satisfactory convergence)?\n",
    "\n",
    "Use parameters $S_0 = 100, K = 90, T = 0.5, \\sigma = 0.2,$ and $r = 0.04$."
   ]
  }
 ],
 "metadata": {
  "language_info": {
   "name": "python"
  }
 },
 "nbformat": 4,
 "nbformat_minor": 2
}
