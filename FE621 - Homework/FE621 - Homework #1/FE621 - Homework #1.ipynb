{
 "cells": [
  {
   "cell_type": "markdown",
   "metadata": {},
   "source": [
    "### FE621 - Homework #1"
   ]
  },
  {
   "cell_type": "markdown",
   "metadata": {},
   "source": [
    "**Author**: Sid Bhatia\n",
    "\n",
    "**Date**: February 11th, 2023\n",
    "\n",
    "**Pledge**: I pledge my honor that I have abided by the Stevens Honor System.\n",
    "\n",
    "**Professor**: Dr. Sveinn Olafsson\n",
    "\n",
    "**TA**: Mr. Dong Woo Kim"
   ]
  },
  {
   "cell_type": "markdown",
   "metadata": {},
   "source": [
    "#### Problem #1 - Analyzing Options Data"
   ]
  },
  {
   "cell_type": "markdown",
   "metadata": {},
   "source": [
    "1. Collect Data:\n",
    "\n",
    "- Download market prices and implied volatilities for S&P 500 index options (SPX options). You also need the value of the S&P 500 index. The data can be obtained from, e.g., Yahoo Finance or Bloomberg.\n",
    "- Download risk-free interest rate data from http://www.federalreserve.gov/releases/H15/Current/."
   ]
  },
  {
   "cell_type": "code",
   "execution_count": 46,
   "metadata": {},
   "outputs": [
    {
     "name": "stdout",
     "output_type": "stream",
     "text": [
      "Calls Data:\n",
      "          Contract Name         Last Trade Date  Strike  Last Price      Bid   \n",
      "0  SPXW240212C01200000   2023-12-15 9:47AM EST  1200.0     3516.61  3575.50  \\\n",
      "1  SPXW240212C02000000   2024-02-11 8:32PM EST  2000.0     3027.00     0.00   \n",
      "2  SPXW240212C02400000   2024-02-08 8:20PM EST  2400.0     2597.00     0.00   \n",
      "3  SPXW240212C02600000   2024-02-09 4:02PM EST  2600.0     2425.60     0.00   \n",
      "4  SPXW240212C04000000  2024-02-09 12:52PM EST  4000.0     1017.30  1022.20   \n",
      "\n",
      "      Ask   Change % Change Volume Open Interest Implied Volatility  \n",
      "0  3585.4     0.00        -      2             0              0.00%  \n",
      "1     0.0    32.40   +1.08%      2             0              0.00%  \n",
      "2     0.0  2597.00        -      -             -              0.00%  \n",
      "3     0.0  2425.60        -      -             -              0.00%  \n",
      "4  1029.8   147.78  +17.00%      8             0            208.20%  \n",
      "\n",
      "Puts Data:\n",
      "          Contract Name         Last Trade Date  Strike  Last Price   Bid   \n",
      "0  SPXW240212P01200000   2023-12-15 9:47AM EST  1200.0        0.08  0.00  \\\n",
      "1  SPXW240212P01800000   2023-12-18 4:00PM EST  1800.0        0.07  0.00   \n",
      "2  SPXW240212P02000000   2024-01-12 1:16PM EST  2000.0        0.05  0.00   \n",
      "3  SPXW240212P02200000  2024-01-22 11:47AM EST  2200.0        0.05  0.00   \n",
      "4  SPXW240212P02400000   2024-01-11 2:49PM EST  2400.0        0.05  0.00   \n",
      "\n",
      "    Ask  Change % Change Volume Open Interest Implied Volatility  \n",
      "0  0.05     0.0        -      2             0            740.63%  \n",
      "1  0.00     0.0        -      -             3             50.00%  \n",
      "2  0.05     0.0        -      -             4            481.25%  \n",
      "3  0.00     0.0        -      2             0             50.00%  \n",
      "4  0.05     0.0        -      2            30            390.63%  \n"
     ]
    }
   ],
   "source": [
    "from yahoo_fin import options\n",
    "\n",
    "# Use \"^SPX\" for the S&P 500 Index.\n",
    "ticker_symbol = '^SPX'\n",
    "\n",
    "# Try-except to retrieve options data for ^SPX.\n",
    "try:\n",
    "    # Get all available expiration dates for the ticker.\n",
    "    expiration_dates = options.get_expiration_dates(ticker_symbol)\n",
    "    \n",
    "    if expiration_dates:\n",
    "        # Get options chain for the nearest expiration date.\n",
    "        options_chain = options.get_options_chain(ticker_symbol, expiration_dates[0])\n",
    "\n",
    "        calls = options_chain['calls']\n",
    "        puts = options_chain['puts']\n",
    "\n",
    "        print(\"Calls Data:\\n\", calls.head())  # Display the first few rows of call options data.\n",
    "        print(\"\\nPuts Data:\\n\", puts.head())  # Display the first few rows of put options data.\n",
    "    else:\n",
    "        print(\"No expiration dates found for ticker:\", ticker_symbol)\n",
    "except Exception as e:\n",
    "    print(\"Error retrieving options data:\", str(e))"
   ]
  }
 ],
 "metadata": {
  "kernelspec": {
   "display_name": "Python 3",
   "language": "python",
   "name": "python3"
  },
  "language_info": {
   "codemirror_mode": {
    "name": "ipython",
    "version": 3
   },
   "file_extension": ".py",
   "mimetype": "text/x-python",
   "name": "python",
   "nbconvert_exporter": "python",
   "pygments_lexer": "ipython3",
   "version": "3.11.5"
  }
 },
 "nbformat": 4,
 "nbformat_minor": 2
}
