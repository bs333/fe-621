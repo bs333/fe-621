{
 "cells": [
  {
   "cell_type": "markdown",
   "metadata": {},
   "source": [
    "# FE621 - Homework #5"
   ]
  },
  {
   "cell_type": "markdown",
   "metadata": {},
   "source": [
    "**Author**: Sid Bhatia\n",
    "\n",
    "**Date**: May 10th, 2024\n",
    "\n",
    "**Pledge**: I pledge my honor that I have abided by the Stevens Honor System.\n",
    "\n",
    "**Professor**: Sveinn Olafsson\n",
    "\n",
    "**TA**: Dong Woo Kim"
   ]
  },
  {
   "cell_type": "markdown",
   "metadata": {},
   "source": [
    "## Problem 1 (Portfolio Wealth Growth)\n",
    "\n",
    "### 1.1 Portfolio Wealth Growth Theory\n",
    "\n",
    "This section delves into the theoretical mathematical foundation governing the growth of portfolio wealth over time. The analysis is crucial for understanding how investments evolve under the influence of various market factors, including returns and volatility.\n",
    "\n",
    "#### 1.1.1 Mathematical Formulation\n",
    "\n",
    "The wealth process $\\{V_t\\}_{t \\geq 0}$ is modeled as a geometric Brownian motion (GBM), which is frequently used to represent stock prices and, by extension, portfolio values under stochastic environments. The stochastic differential equation (SDE) governing this process is given by:\n",
    "\n",
    "$$\n",
    "\\frac{d V_t}{V_t} = \\mu dt + \\sigma dW_t \\tag{1}\n",
    "$$\n",
    "\n",
    "Here:\n",
    "- $V_t$ represents the portfolio value at time $t$.\n",
    "- $\\mu$ is the expected return of the portfolio, expressed as a percentage of the portfolio value.\n",
    "- $\\sigma$ is the volatility of the portfolio, which measures the standard deviation of the portfolio's returns.\n",
    "- $dW_t$ is the increment of a standard Brownian motion, which captures the random fluctuations in the market.\n",
    "\n",
    "##### Interpretation\n",
    "\n",
    "Equation (1) can be interpreted as follows:\n",
    "- The term $\\mu dt$ captures the expected growth of the portfolio due to returns over an infinitesimally small time interval $dt$.\n",
    "- The term $\\sigma dW_t$ introduces randomness into the growth process, reflecting the uncertainty and risk inherent in the financial markets.\n",
    "\n",
    "##### Solution to the Differential Equation\n",
    "\n",
    "The solution to the stochastic differential equation (SDE) given in equation (1) can be expressed explicitly by integrating both sides over the interval from $0$ to $t$:\n",
    "\n",
    "$$\n",
    "\\ln \\frac{V_t}{V_0} = \\left(\\mu - \\frac{\\sigma^2}{2}\\right)t + \\sigma W_t \\tag{2}\n",
    "$$\n",
    "\n",
    "where:\n",
    "- $V_0$ is the initial value of the portfolio at time $t=0$.\n",
    "- $W_t$ represents the standard Brownian motion at time $t$.\n",
    "\n",
    "From equation (2), we can exponentiate both sides to obtain the explicit form of $V_t$:\n",
    "\n",
    "$$\n",
    "V_t = V_0 \\exp{\\left( (\\mu - \\frac{\\sigma^2}{2})t + \\sigma W_t \\right)} \\tag{3}\n",
    "$$\n",
    "\n",
    "##### Mathematical Synthesis\n",
    "\n",
    "Equation (3) clearly shows how the portfolio value $V_t$ evolves over time. It indicates that the portfolio value is log-normally distributed with its mean and variance increasing over time. This formulation is fundamental in finance for modeling asset prices and helps in understanding the dynamic nature of investment growth under uncertainty.\n",
    "\n",
    "#### 1.1.2 Expectation of Portfolio Wealth\n",
    "\n",
    "The following section explores and delves into the expectation (first raw moment/arithmetic average) of the portfolio wealth process.\n",
    "\n",
    "##### Expectation Calculation\n",
    "\n",
    "Given the wealth process $V_t$ which follows a geometric Brownian motion (GBM) as described by:\n",
    "\n",
    "$$\n",
    "\\frac{dV_t}{V_t} = \\mu dt + \\sigma dW_t \\tag{1}\n",
    "$$\n",
    "\n",
    "The solution to this stochastic differential equation (SDE) indicates:\n",
    "\n",
    "$$\n",
    "V_t = V_0 \\exp{\\left( (\\mu - \\frac{\\sigma^2}{2})t + \\sigma W_t \\right)} \\tag{3}\n",
    "$$\n",
    "\n",
    "To find the expectation $\\mathbb{E}[V_t]$, we note that $W_t$ is a standard Brownian motion (BM), which implies $\\sigma W_t$ is normally distributed with mean $0$ and variance $\\sigma^2 t$. Thus, $\\sigma W_t \\sim N(0, \\sigma^2 t)$, and $e^{\\sigma W_t}$ follows a log-normal distribution.\n",
    "\n",
    "We can use the moment-generating function (MGF) of a normally distributed random variable to compute the expectation of a log-normal variable. For a random variable $X \\sim \\mathcal{N}(\\mu_X, \\sigma_X^2)$, the MGF of $X$ at $s$ is $M_X(s) = e^{\\mu_X s + \\frac{1}{2} \\sigma_X^2 s^2}$. Setting $s = 1$, we find:"
   ]
  }
 ],
 "metadata": {
  "language_info": {
   "name": "python"
  }
 },
 "nbformat": 4,
 "nbformat_minor": 2
}
