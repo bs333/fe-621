{
 "cells": [
  {
   "cell_type": "markdown",
   "metadata": {},
   "source": [
    "# FE621 - Homework #5"
   ]
  },
  {
   "cell_type": "markdown",
   "metadata": {},
   "source": [
    "**Author**: Sid Bhatia\n",
    "\n",
    "**Date**: May 10th, 2024\n",
    "\n",
    "**Pledge**: I pledge my honor that I have abided by the Stevens Honor System.\n",
    "\n",
    "**Professor**: Sveinn Olafsson\n",
    "\n",
    "**TA**: Dong Woo Kim"
   ]
  },
  {
   "cell_type": "markdown",
   "metadata": {},
   "source": [
    "## Problem 1 (Portfolio Wealth Growth)\n",
    "\n",
    "### 1.1 Portfolio Wealth Growth Theory\n",
    "\n",
    "This section delves into the theoretical mathematical foundation governing the growth of portfolio wealth over time. The analysis is crucial for understanding how investments evolve under the influence of various market factors, including returns and volatility.\n",
    "\n",
    "#### 1.1.1 Mathematical Formulation\n",
    "\n",
    "The wealth process $\\{V_t\\}_{t \\geq 0}$ is modeled as a geometric Brownian motion (GBM), which is frequently used to represent stock prices and, by extension, portfolio values under stochastic environments. The stochastic differential equation (SDE) governing this process is given by:\n",
    "\n",
    "$$\n",
    "\\frac{d V_t}{V_t} = \\mu dt + \\sigma dW_t \\tag{1}\n",
    "$$\n",
    "\n",
    "Here:\n",
    "- $V_t$ represents the portfolio value at time $t$.\n",
    "- $\\mu$ is the expected return of the portfolio, expressed as a percentage of the portfolio value.\n",
    "- $\\sigma$ is the volatility of the portfolio, which measures the standard deviation of the portfolio's returns.\n",
    "- $dW_t$ is the increment of a standard Brownian motion, which captures the random fluctuations in the market.\n",
    "\n",
    "##### Interpretation\n",
    "\n",
    "Equation (1) can be interpreted as follows:\n",
    "- The term $\\mu dt$ captures the expected growth of the portfolio due to returns over an infinitesimally small time interval $dt$.\n",
    "- The term $\\sigma dW_t$ introduces randomness into the growth process, reflecting the uncertainty and risk inherent in the financial markets.\n",
    "\n",
    "##### Solution to the Differential Equation\n",
    "\n",
    "The solution to the stochastic differential equation (SDE) given in equation (1) can be expressed explicitly by integrating both sides over the interval from $0$ to $t$:\n",
    "\n",
    "$$\n",
    "\\ln \\frac{V_t}{V_0} = \\left(\\mu - \\frac{\\sigma^2}{2}\\right)t + \\sigma W_t \\tag{2}\n",
    "$$\n",
    "\n",
    "where:\n",
    "- $V_0$ is the initial value of the portfolio at time $t=0$.\n",
    "- $W_t$ represents the standard Brownian motion at time $t$.\n",
    "\n",
    "From equation (2), we can exponentiate both sides to obtain the explicit form of $V_t$:\n",
    "\n",
    "$$\n",
    "V_t = V_0 e^{(\\mu - \\frac{\\sigma^2}{2})t + \\sigma W_t} \\tag{3}\n",
    "$$"
   ]
  }
 ],
 "metadata": {
  "language_info": {
   "name": "python"
  }
 },
 "nbformat": 4,
 "nbformat_minor": 2
}
