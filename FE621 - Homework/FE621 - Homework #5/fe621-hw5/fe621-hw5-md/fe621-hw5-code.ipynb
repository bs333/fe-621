{
 "cells": [
  {
   "cell_type": "code",
   "execution_count": 2,
   "metadata": {},
   "outputs": [],
   "source": [
    "import numpy as np\n",
    "from typing import Tuple, List\n",
    "import matplotlib.pyplot as plt\n",
    "\n",
    "# Set the seed for reproducibility\n",
    "np.random.seed(42)\n",
    "\n",
    "def simulate_returns(mu: float, sigma: float, T: int, Delta: float, N: int) -> Tuple[np.ndarray, np.ndarray]:\n",
    "    \"\"\"Simulate returns based on the geometric Brownian motion model.\n",
    "    \n",
    "    Args:\n",
    "        mu (float): Expected annual return.\n",
    "        sigma (float): Volatility of returns.\n",
    "        T (int): Total time period.\n",
    "        Delta (float): Time step for simulation.\n",
    "        N (int): Number of simulations to perform.\n",
    "\n",
    "    Returns:\n",
    "        Tuple[np.ndarray, np.ndarray]: Arrays of estimated mu and sigma.\n",
    "    \"\"\"\n",
    "    m = int(T / Delta)  # Number of time steps\n",
    "    estimated_mus = []\n",
    "    estimated_sigmas = []\n",
    "    \n",
    "    for _ in range(N):\n",
    "        # Simulate returns for each sub-interval\n",
    "        returns = np.random.normal(mu * Delta, sigma * np.sqrt(Delta), m)\n",
    "        # Calculate estimators\n",
    "        hat_mu_Delta = np.mean(returns)\n",
    "        hat_sigma_Delta = np.std(returns, ddof=1)\n",
    "        \n",
    "        # Scale estimators to annualize them\n",
    "        hat_mu = hat_mu_Delta / Delta\n",
    "        hat_sigma = hat_sigma_Delta / np.sqrt(Delta)\n",
    "        \n",
    "        # Store results\n",
    "        estimated_mus.append(hat_mu)\n",
    "        estimated_sigmas.append(hat_sigma)\n",
    "    \n",
    "    return np.array(estimated_mus), np.array(estimated_sigmas)"
   ]
  },
  {
   "cell_type": "code",
   "execution_count": null,
   "metadata": {},
   "outputs": [],
   "source": []
  }
 ],
 "metadata": {
  "kernelspec": {
   "display_name": "Python 3",
   "language": "python",
   "name": "python3"
  },
  "language_info": {
   "codemirror_mode": {
    "name": "ipython",
    "version": 3
   },
   "file_extension": ".py",
   "mimetype": "text/x-python",
   "name": "python",
   "nbconvert_exporter": "python",
   "pygments_lexer": "ipython3",
   "version": "3.12.2"
  }
 },
 "nbformat": 4,
 "nbformat_minor": 2
}
