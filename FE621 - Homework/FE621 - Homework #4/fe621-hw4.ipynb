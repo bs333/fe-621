{
 "cells": [
  {
   "cell_type": "markdown",
   "metadata": {},
   "source": [
    "### FE621 - Homework #4"
   ]
  },
  {
   "cell_type": "markdown",
   "metadata": {},
   "source": [
    "**Author**: Sid Bhatia\n",
    "\n",
    "**Date**: May 2nd, 2024\n",
    "\n",
    "**Pledge**: I pledge my honor that I have abided by the Stevens Honor System.\n",
    "\n",
    "**Professor**: Sveinn Olafsson\n",
    "\n",
    "**TA**: Dong Woo Kim"
   ]
  },
  {
   "cell_type": "markdown",
   "metadata": {},
   "source": [
    "#### Problem #1 (Barrier Options)"
   ]
  },
  {
   "cell_type": "markdown",
   "metadata": {},
   "source": [
    "The price of an **up-and-out put option** (**UOP**) with strike price $K$ and barrier $H$ is given by:\n",
    "\n",
    "$$\n",
    "P = e^{-r T} \\mathbb{E}[(K - S_T)_+ \\mathbf{1}_{\\{\\tau > T\\}}] \\tag{1}\n",
    "$$\n",
    "\n",
    "where $\\tau$ is the *stopping time* of the asset price process $(S_t)_{t\\geq0}$ to the barrier $H$:\n",
    "\n",
    "$$\n",
    "\\tau = \\inf{\\{t > 0 : S_t \\geq H\\}} \\tag{2}\n",
    "$$"
   ]
  }
 ],
 "metadata": {
  "language_info": {
   "name": "python"
  }
 },
 "nbformat": 4,
 "nbformat_minor": 2
}
