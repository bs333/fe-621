{
 "cells": [
  {
   "cell_type": "markdown",
   "metadata": {},
   "source": [
    "### FE621 - Homework #4"
   ]
  },
  {
   "cell_type": "markdown",
   "metadata": {},
   "source": [
    "**Author**: Sid Bhatia\n",
    "\n",
    "**Date**: May 2nd, 2024\n",
    "\n",
    "**Pledge**: I pledge my honor that I have abided by the Stevens Honor System.\n",
    "\n",
    "**Professor**: Sveinn Olafsson\n",
    "\n",
    "**TA**: Dong Woo Kim"
   ]
  },
  {
   "cell_type": "markdown",
   "metadata": {},
   "source": [
    "#### Problem #1 (Barrier Options)"
   ]
  },
  {
   "cell_type": "markdown",
   "metadata": {},
   "source": [
    "##### Price Formulation\n",
    "\n",
    "The price of an **up-and-out put option**/**knock-out** (**UOP**) with strike price $K$ and barrier $H$ is given by:\n",
    "\n",
    "$$\n",
    "P = e^{-r T} \\mathbb{E}^Q[(K - S_T)_+ \\mathbf{1}_{\\{\\tau > T\\}}] \\tag{1}\n",
    "$$\n",
    "\n",
    "where $\\tau$ is the *stopping time* of the asset price process $(S_t)_{t\\geq0}$ to the barrier $H$:\n",
    "\n",
    "$$\n",
    "\\tau = \\inf{\\{t > 0 : S_t \\geq H\\}} \\tag{2}\n",
    "$$\n",
    "\n",
    "##### Indicator Formulation\n",
    "\n",
    "The **indicator function** $\\mathbf{1}_{\\{\\tau > T\\}}$ in the formula for the up-and-out put option is defined as follows:\n",
    "\n",
    "$$\n",
    "\\mathbf{1}_{\\{\\tau > T\\}} = \n",
    "\\begin{cases} \n",
    "1 & \\text{if } \\tau > T \\\\\n",
    "0 & \\text{otherwise}\n",
    "\\end{cases}\n",
    "$$\n",
    "\n",
    "where $\\tau$ is the **stopping time** defined as the first instance when the stock price $S_t$ reaches or exceeds the barrier level $H$.\n",
    "\n",
    "##### Indicator Definition\n",
    "\n",
    "The **infimum function** used to define the stopping time $\\tau$ for the up-and-out put option is as follows:\n",
    "\n",
    "$$\n",
    "\\tau = \\inf{\\{t > 0 : S_t \\geq H\\}}\n",
    "$$\n",
    "\n",
    "In this expression:\n",
    "- $\\tau$ represents the **stopping time**, the earliest time at which the stock price $S_t$ reaches or exceeds a predetermined barrier level $H$.\n",
    "- The set $\\{t > 0 : S_t \\geq H\\}$ includes all times $t$ where the stock price is greater than or equal to the barrier $H$.\n",
    "- The function $\\inf{\\{\\cdot\\}}$ denotes the **infimum** of a set, which is the greatest lower bound of that set. In this case, it identifies the *smallest time value* from the set of all times where $S_t$ is at least $H$.\n",
    "\n",
    "If the set $\\{t > 0 : S_t \\geq H\\}$ is empty (i.e., the stock price never reaches or exceeds $H$ during the option's life), $\\tau$ is considered infinite, and the indicator function $\\mathbf{1}_{\\{\\tau > T\\}}$ equals 1, implying that the option behaves like a standard put option throughout its lifetime.\n",
    "\n",
    "##### Payoff\n",
    "\n",
    "The payoff is the **same** as that of a *vanilla put option*, unless the stock price goes above $H$ during the life of the option, in which case the payoff is **zero**. Assume the process $\\{S_t\\}_{t\\geq0}$ to follow a GBM. "
   ]
  },
  {
   "cell_type": "markdown",
   "metadata": {},
   "source": [
    "*a. Is an UOP option cheaper or more expensive than a vanilla put option? Explain.*"
   ]
  },
  {
   "cell_type": "markdown",
   "metadata": {},
   "source": [
    "An **up-and-out put option** (UOP) is generally cheaper than a vanilla put option. This difference in pricing comes from the **additional condition** involved in the UOP, where the option becomes worthless if the stock price exceeds the barrier $H$ before expiration. In a vanilla put option, the holder has the right to sell the stock at the strike price $K$ **regardless of how high the stock price has climbed during the option's life**.\n",
    "\n",
    "This restriction in the UOP **reduces the probability** of a payout compared to a vanilla put option, where there is no upper limit on the stock price affecting the payoff. \n",
    "\n",
    "Therefore, the UOP has a **lower premium** due to its *reduced likelihood of exercising profitably*. Essentially, the risk of the option knocking out (i.e., becoming worthless if the stock price exceeds the barrier $H$ reduces its cost."
   ]
  },
  {
   "cell_type": "markdown",
   "metadata": {},
   "source": [
    "b. The standard MC estimator for the price of an **UOP (put) option** is given by:\n",
    "\n",
    "$$\n",
    "\\hat{P}_{n, m} = e^{-r T} \\frac{1}{N} \\cdot \\sum_{k=1}^N (K - \\hat{S}_m(k))^+ \\mathbf{1}_{\\{\\hat{\\tau}(k) > T\\}} \\tag{3}\n",
    "$$\n",
    "\n",
    "where $\\{\\hat{S}_i(k)\\}_{i\\geq0}$ is the $k$-th simulated path of GBM at times $\\{t_i\\}_{i\\geq0}$ where $t_i = i \\cdot \\frac{T}{m}$ and\n",
    "\n",
    "$$\n",
    "\\hat{\\tau}(k) = \\inf{\\{i \\geq 0 : \\hat{S}_i(k) > H\\}} \\tag{4}\n",
    "$$\n",
    "\n",
    "is the **stopping time** of the simulated path to the barrier $H$."
   ]
  },
  {
   "cell_type": "markdown",
   "metadata": {},
   "source": [
    "*(i) What is the definition of $\\hat{P}_{n,m}$ being an unbiased/biased high/biased low estimator for P?*"
   ]
  },
  {
   "cell_type": "markdown",
   "metadata": {},
   "source": [
    "The definition of $\\hat{P}_{n,m}$ being an **unbiased**, **biased high**, or **biased low** estimator for $P$ relates to its **expected value** compared to the true value $P$:\n",
    "\n",
    "- **Unbiased Estimator**: $\\mathbb{E}[\\hat{P}_{n,m}] = P$, or the estimator *equals* to the true price.\n",
    "- **Biased High Estimator**: $\\mathbb{E}[\\hat{P}_{n,m}] > P$, or the estimator systematically *overestimates* the true price.\n",
    "- **Biased Low Estimator**: $\\mathbb{E}[\\hat{P}_{n,m}] < P$, or the estimator systematically *underestimates* the true price"
   ]
  },
  {
   "cell_type": "markdown",
   "metadata": {},
   "source": [
    "*(ii) Do you expect $\\hat{P}_{n,m}$ to be biased (high/low)? Explain.*\n",
    "\n",
    "- **Potential for Low Bias**: KO put may be biased low due to the *discretization* of the path simulation. In practical settings, the simulation might not capture every peak that crosses the barrier $H$ within the continuous monitoring of the actual path, especially if the time steps $(\\Delta t)$ are not small enough. This miss means some paths that should knock out (reach or exceed $H$)"
   ]
  }
 ],
 "metadata": {
  "language_info": {
   "name": "python"
  }
 },
 "nbformat": 4,
 "nbformat_minor": 2
}
