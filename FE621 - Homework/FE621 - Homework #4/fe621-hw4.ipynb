{
 "cells": [
  {
   "cell_type": "markdown",
   "metadata": {},
   "source": [
    "### FE621 - Homework #4"
   ]
  },
  {
   "cell_type": "markdown",
   "metadata": {},
   "source": [
    "**Author**: Sid Bhatia\n",
    "\n",
    "**Date**: May 2nd, 2024\n",
    "\n",
    "**Pledge**: I pledge my honor that I have abided by the Stevens Honor System.\n",
    "\n",
    "**Professor**: Sveinn Olafsson\n",
    "\n",
    "**TA**: Dong Woo Kim"
   ]
  },
  {
   "cell_type": "markdown",
   "metadata": {},
   "source": [
    "#### Problem #1 (Barrier Options)"
   ]
  },
  {
   "cell_type": "markdown",
   "metadata": {},
   "source": [
    "The price of an **up-and-out put option**/**knock-out** (**UOP**) with strike price $K$ and barrier $H$ is given by:\n",
    "\n",
    "$$\n",
    "P = e^{-r T} \\mathbb{E}[(K - S_T)_+ \\mathbf{1}_{\\{\\tau > T\\}}] \\tag{1}\n",
    "$$\n",
    "\n",
    "where $\\tau$ is the *stopping time* of the asset price process $(S_t)_{t\\geq0}$ to the barrier $H$:\n",
    "\n",
    "$$\n",
    "\\tau = \\inf{\\{t > 0 : S_t \\geq H\\}} \\tag{2}\n",
    "$$\n",
    "\n",
    "The payoff is the **same** as that of a *vanilla put option*, unless the stock price goes above $H$ during the life of the option, in which case the payoff is **zero**. Assume the process $(S_t)_{t\\geq0}$ to follow a GBM. "
   ]
  },
  {
   "cell_type": "markdown",
   "metadata": {},
   "source": [
    "*a. Is an UOP option cheaper or more expensive than a vanilla put option? Explain.*"
   ]
  },
  {
   "cell_type": "markdown",
   "metadata": {},
   "source": [
    "An **up-and-out put option** (UOP) is generally cheaper than a vanilla put option. This difference in pricing comes from the **additional condition** involved in the UOP, where the option becomes worthless if the stock price exceeds the barrier $H$ before expiration. In a vanilla put option, the holder has the right to sell the stock at the strike price $K$ **regardless of how high the stock price has climbed during the option's life**.\n",
    "\n",
    "This restriction in the UOP **reduces the probability** of a payout compared to a vanilla put option, where there is no upper limit on the stock price affecting the payoff. \n",
    "\n",
    "Therefore, the UOP has a **lower premium** due to its *reduced likelihood of exercising profitably*. Essentially, the risk of the option knocking out (i.e., becoming worthless if the stock price exceeds the barrier $H$ reduces its cost."
   ]
  },
  {
   "cell_type": "markdown",
   "metadata": {},
   "source": [
    "b. The standard MC estimator for the price of an **UOP (put) option** is given by:\n",
    "\n",
    "$$\n",
    "\\hat{P}_{n, m} = e^{-r T} \\frac{1}{N} \\cdot \\sum_{k=1}^N (K - \\hat{S}_m(k))^+ \\mathbf{1}_{\\{\\hat{\\tau}(k) > T\\}} \\tag{3}\n",
    "$$\n",
    "\n",
    "where $\\{\\hat{S}_i(k)\\}_{i\\geq0}$ is the $k$-th simulated path of GBM at times $\\{t_i\\}_{i\\geq0}$ where $t_i = i \\cdot \\frac{T}{m}$ and\n",
    "\n",
    "$$\n",
    "\\hat{\\tau}(k) = \\inf{\\{i \\geq 0 : \\hat{S}_i(k) > H\\}} \\tag{4}\n",
    "$$\n",
    "\n",
    "is the **stopping time** of the simulated path to the barrier $H$."
   ]
  },
  {
   "cell_type": "markdown",
   "metadata": {},
   "source": [
    "*(i) What is the definition of $\\hat{P}_{n,m}$ being an unbiased/biased high/biased low estimator for P?*"
   ]
  },
  {
   "cell_type": "markdown",
   "metadata": {},
   "source": [
    "The definition of $\\hat{P}_{n,m}$ being an **unbiased**, **biased high**, or **biased low** estimator for $P$ relates to its **expected value** compared to the true value $P$:\n",
    "\n",
    "- **Unbiased Estimator**: $\\mathbb{E}[\\hat{P}_{n,m}] = P$, or the estimator *equals* to the true price.\n",
    "- **Biased High Estimator**: $\\mathbb{E}[\\hat{P}_{n,m}] > P$, or the estimator systematically *overestimates* the true price.\n",
    "- **Biased Low Estimator**: $\\mathbb{E}[\\hat{P}_{n,m}] < P$, or the estimator systematically *underestimates* the true price"
   ]
  },
  {
   "cell_type": "markdown",
   "metadata": {},
   "source": [
    "*(ii) Do you expect $\\hat{P}_{n,m}$ to be biased (high/low)? Explain.*"
   ]
  }
 ],
 "metadata": {
  "language_info": {
   "name": "python"
  }
 },
 "nbformat": 4,
 "nbformat_minor": 2
}
