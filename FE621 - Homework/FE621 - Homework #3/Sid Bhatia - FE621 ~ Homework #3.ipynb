{
 "cells": [
  {
   "cell_type": "markdown",
   "metadata": {},
   "source": [
    "### FE621 - Homework #3"
   ]
  },
  {
   "cell_type": "markdown",
   "metadata": {},
   "source": [
    "**Author**: Sid Bhatia\n",
    "\n",
    "**Date**: April 5th, 2023\n",
    "\n",
    "**Pledge**: I pledge my honor that I have abided by the Stevens Honor System.\n",
    "\n",
    "**Professor**: Sveinn Olafsson\n",
    "\n",
    "**TA**: Dong Woo Kim"
   ]
  },
  {
   "cell_type": "markdown",
   "metadata": {},
   "source": [
    "#### Problem #1 (Monte Carlo Error)"
   ]
  },
  {
   "cell_type": "markdown",
   "metadata": {},
   "source": [
    "Use Monte Carlo simulation to price a European call option in the Black-Scholes model with the following parameters: $S_0 = 100, \\sigma = 0.30, r = 0.05, T = 1,$ and $K = 100$."
   ]
  },
  {
   "cell_type": "markdown",
   "metadata": {},
   "source": [
    "a. Use (exact) simulation based on the closed-form solution of geometric Brownian motion. Use $n = 100,000$ paths. \n",
    "\n",
    "Clearly describe the steps of your simulation procedure, and provide formulas for the Monte Carlo estimator and a corresponding 95% confidence interval. Report both the estimator and the confidence interval. Does the confidence interval contain the true price of the option?"
   ]
  },
  {
   "cell_type": "markdown",
   "metadata": {},
   "source": [
    "##### Procedure"
   ]
  },
  {
   "cell_type": "markdown",
   "metadata": {},
   "source": [
    "1. **Simulation of Stock Prices**: According to BSM, the stock process $S_t$ at future time $t$ is as follows:\n",
    "\n",
    "$$S_t = S_0 \\exp\\{(r - \\frac{1}{2}\\sigma^2)T + \\sigma \\sqrt{T} W_T\\}$$\n",
    "\n",
    "where\n",
    "\n",
    "- $S_0$ = initial stock price\n",
    "- $r$ = rfr (e.g., 3-month UST)\n",
    "- $\\sigma$ = vol\n",
    "- $T$ = time till maturity\n",
    "- $W_T$ = standard BM $\\sim \\mathcal{N}(0, T)$\n",
    "\n",
    "2. **Payoff Calculation**: For a call option, the payoff at maturity is $(S_T - K)_+$ where $K$ is the strike price. For puts, it's the converse $(K - S_T)_+$.\n",
    "\n",
    "3. **MC Estimator**: The price of the option is the present value of the expected payoff under the risk-neutral measure $\\mathbb{Q}$, which is estimated as the average of the discounted payoffs across all simulated paths:\n",
    "\n",
    "$$P = e^{-rT} \\mathbb{E}^Q[f(S_t)], \\; \\text{where} \\; f \\; \\text{is the payoff function}. \\\\ \\dots \\\\ \\hat{C} = \\exp\\{(-rT)\\} \\frac{1}{n} \\sum_{i = 1}^n f(S_t)$$\n",
    "\n",
    "4. **CI**: The 95% confidence interval for the true option price is given by $$\\hat{C} \\pm z_{\\alpha / 2} \\cdot SE$$ \n",
    "\n",
    "where $\\alpha = 0.05$ and $SE = \\text{standard error}$. Therefore,\n",
    "\n",
    "$$\\hat{C} = 1.96 \\cdot \\frac{\\sigma_{\\hat{C}}}{\\sqrt{n}}$$\n",
    "\n",
    "where $\\sigma_{\\hat{C}}$ is the standard deviation of the stimulated payoffs."
   ]
  }
 ],
 "metadata": {
  "language_info": {
   "name": "python"
  }
 },
 "nbformat": 4,
 "nbformat_minor": 2
}
