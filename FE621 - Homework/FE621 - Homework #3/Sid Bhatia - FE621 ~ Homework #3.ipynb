{
 "cells": [
  {
   "cell_type": "markdown",
   "metadata": {},
   "source": [
    "### FE621 - Homework #3"
   ]
  },
  {
   "cell_type": "markdown",
   "metadata": {},
   "source": [
    "**Author**: Sid Bhatia\n",
    "\n",
    "**Date**: April 5th, 2023\n",
    "\n",
    "**Pledge**: I pledge my honor that I have abided by the Stevens Honor System.\n",
    "\n",
    "**Professor**: Sveinn Olafsson\n",
    "\n",
    "**TA**: Dong Woo Kim"
   ]
  },
  {
   "cell_type": "markdown",
   "metadata": {},
   "source": [
    "#### Problem #1 (Monte Carlo Error)"
   ]
  },
  {
   "cell_type": "markdown",
   "metadata": {},
   "source": [
    "Use Monte Carlo simulation to price a European call option in the Black-Scholes model with the following parameters: $S_0 = 100, \\sigma = 0.30, r = 0.05, T = 1,$ and $K = 100$."
   ]
  },
  {
   "cell_type": "markdown",
   "metadata": {},
   "source": [
    "a. Use (exact) simulation based on the closed-form solution of geometric Brownian motion. Use $n = 100,000$ paths. \n",
    "\n",
    "Clearly describe the steps of your simulation procedure, and provide formulas for the Monte Carlo estimator and a corresponding 95% confidence interval. Report both the estimator and the confidence interval. Does the confidence interval contain the true price of the option?"
   ]
  },
  {
   "cell_type": "markdown",
   "metadata": {},
   "source": [
    "##### Procedure"
   ]
  },
  {
   "cell_type": "markdown",
   "metadata": {},
   "source": [
    "1. **Simulation of Stock Prices**: According to BSM, the stock process $S_t$ at future time $t$ is as follows:\n",
    "\n",
    "$$S_t = S_0 \\exp\\{(r - \\frac{1}{2}\\sigma^2)T + \\sigma \\sqrt{T} W_T\\}$$\n",
    "\n",
    "where\n",
    "\n",
    "- $S_0$ = initial stock price\n",
    "- $r$ = rfr (e.g., 3-month UST)\n",
    "- $\\sigma$ = vol\n",
    "- $T$ = time till maturity\n",
    "- $W_T$ = standard BM $\\sim \\mathcal{N}(0, T)$\n",
    "\n",
    "2. **Payoff Calculation**: For a call option, the payoff at maturity is $(S_T - K)_+$ where $K$ is the strike price. For puts, it's the converse $(K - S_T)_+$.\n",
    "\n",
    "3. **MC Estimator**: The price of the option is the present value of the expected payoff under the risk-neutral measure $\\mathbb{Q}$, which is estimated as the average of the discounted payoffs across all simulated paths:\n",
    "\n",
    "$$P = e^{-rT} \\mathbb{E}^Q[f(S_t)], \\; \\text{where} \\; f \\; \\text{is the payoff function}. \\\\ \\dots \\\\ \\hat{C} = \\exp\\{(-rT)\\} \\frac{1}{n} \\sum_{i = 1}^n f(S_t)$$\n",
    "\n",
    "4. **CI**: The 95% confidence interval for the true option price is given by $$\\hat{C} \\pm z_{\\alpha / 2} \\cdot SE$$ \n",
    "\n",
    "where $\\alpha = 0.05$ and $SE = \\text{standard error}$. Therefore,\n",
    "\n",
    "$$\\hat{C} = 1.96 \\cdot \\frac{\\sigma_{\\hat{C}}}{\\sqrt{n}}$$\n",
    "\n",
    "where $\\sigma_{\\hat{C}}$ is the standard deviation of the stimulated payoffs.\n",
    "\n",
    "5. **True Price Comparison**: The true price of the option can be calculated using the BSM closed-form solution. We compare the confidence interval obtained from the Monte Carlo simulation with the true price to see if it contains the true price."
   ]
  },
  {
   "cell_type": "code",
   "execution_count": 16,
   "metadata": {},
   "outputs": [
    {
     "data": {
      "text/plain": [
       "(14.245282876176171, (14.106135160743374, 14.384430591608968))"
      ]
     },
     "execution_count": 16,
     "metadata": {},
     "output_type": "execute_result"
    }
   ],
   "source": [
    "import numpy as np\n",
    "from scipy.stats import norm\n",
    "\n",
    "def simulate_stock_prices(S_0: float, sigma: float, r: float, T: float, n: int) -> np.ndarray:\n",
    "    \"\"\"\n",
    "    Simulate end stock prices using the closed-form solution of GBM.\n",
    "    \n",
    "    Parameters:\n",
    "    - S0: Initial stock price\n",
    "    - sigma: Volatility of the stock price\n",
    "    - r: Risk-free interest rate\n",
    "    - T: Time to maturity\n",
    "    - n: Number of paths to simulate\n",
    "    \n",
    "    Returns:\n",
    "    - A numpy array containing simulated end stock prices.\n",
    "    \"\"\"\n",
    "\n",
    "    W_T = np.random.normal(0, 1, n)\n",
    "    S_T = S_0 * np.exp((r - 0.5 * sigma**2) * T + sigma * np.sqrt(T) * W_T)\n",
    "    return S_T\n",
    "\n",
    "def monte_carlo_option_pricing(S_0: float, K: float, sigma: float, r: float, T: float, n: int) -> tuple:\n",
    "    \"\"\"\n",
    "    Price a European call option using Monte Carlo simulation with geometric Brownian motion.\n",
    "    \n",
    "    Parameters:\n",
    "    - S0: Initial stock price\n",
    "    - K: Strike price\n",
    "    - sigma: Volatility of the stock price\n",
    "    - r: Risk-free interest rate\n",
    "    - T: Time to maturity\n",
    "    - n: Number of paths to simulate\n",
    "    \n",
    "    Returns:\n",
    "    - The estimated option price and its 95% confidence interval as a tuple.\n",
    "    \"\"\"\n",
    "    \n",
    "    S_T = simulate_stock_prices(S_0, sigma, r, T, n)\n",
    "    call_payoff = np.maximum(S_T - K, 0)\n",
    "\n",
    "    option_price_estimate = np.exp(-r * T) * np.mean(call_payoff)\n",
    "\n",
    "    standard_error = np.std(call_payoff) * np.exp(-r * T) / np.sqrt(n)\n",
    "\n",
    "    confidence_interval = (option_price_estimate - 1.96 * standard_error, option_price_estimate + 1.96 * standard_error)\n",
    "    \n",
    "    return option_price_estimate, confidence_interval\n",
    "\n",
    "# Parameters\n",
    "S_0 = 100  # Initial stock price\n",
    "sigma = 0.30  # Volatility\n",
    "r = 0.05  # Risk-free rate\n",
    "T = 1  # Time to maturity\n",
    "K = 100  # Strike price\n",
    "n = 100000  # Number of paths\n",
    "\n",
    "# Running the Monte Carlo simulation.\n",
    "option_price, confidence_interval = monte_carlo_option_pricing(S_0, K, sigma, r, T, n)\n",
    "option_price, confidence_interval"
   ]
  }
 ],
 "metadata": {
  "kernelspec": {
   "display_name": "Python 3",
   "language": "python",
   "name": "python3"
  },
  "language_info": {
   "codemirror_mode": {
    "name": "ipython",
    "version": 3
   },
   "file_extension": ".py",
   "mimetype": "text/x-python",
   "name": "python",
   "nbconvert_exporter": "python",
   "pygments_lexer": "ipython3",
   "version": "3.11.5"
  }
 },
 "nbformat": 4,
 "nbformat_minor": 2
}
